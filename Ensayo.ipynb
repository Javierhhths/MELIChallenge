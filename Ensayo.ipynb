{
 "cells": [
  {
   "cell_type": "code",
   "execution_count": null,
   "metadata": {},
   "outputs": [],
   "source": [
    "import spacy\n",
    "from Levenshtein import distance\n",
    "\n",
    "# Cargar el modelo de spaCy en español\n",
    "nlp = spacy.load(\"es_core_news_sm\")\n",
    "\n",
    "def preprocess_text(text):\n",
    "    \"\"\"\n",
    "    Preprocesa el texto utilizando spaCy.\n",
    "    \"\"\"\n",
    "    doc = nlp(text)\n",
    "    return [token.text.lower() for token in doc if not token.is_stop and not token.is_punct]\n",
    "\n",
    "preprocess_text(\"En Logroño pude ver muchísimas especies de árboles\")"
   ]
  },
  {
   "cell_type": "code",
   "execution_count": 33,
   "metadata": {},
   "outputs": [
    {
     "data": {
      "text/plain": [
       "'Ana González Muñoz'"
      ]
     },
     "execution_count": 33,
     "metadata": {},
     "output_type": "execute_result"
    }
   ],
   "source": [
    "import pandas as pd\n",
    "\n",
    "dataframe=pd.read_csv(r'names_dataset.csv', sep=\",\")\n",
    "dataframe[\"full_name_cleansed\"]=dataframe[\"Full Name\"].map(lambda x: ''.join(char for char in x if (char.isalnum() or char in [\" \", \".\"])))\n",
    "dataframe[\"full_name_cleansed\"]=dataframe[\"full_name_cleansed\"].map(lambda x: x.replace(\"Mg. \",\"\").replace(\"Col. \", \"\").replace(\"Lic. \", \"\").replace(\"Dr. \", \"\").replace(\"Dra. \", \"\").replace(\"Sr. \", \"\").replace(\"Sra. \", \"\"))\n",
    "dataframe[\"full_name_cleansed\"][6]\n",
    "\n",
    "#dataframe[\"full_name_transformed\"]=dataframe[\"Full Name\"].map(lambda x: unidecode(''.join(char for char in x if char.isalnum())).lower())"
   ]
  },
  {
   "cell_type": "code",
   "execution_count": 45,
   "metadata": {},
   "outputs": [
    {
     "data": {
      "text/plain": [
       "{112: {'name': 'Ana Álvarez Díaz', 'similarity': 81.25},\n",
       " 292: {'name': 'Marta Álvarez Pérez', 'similarity': 70.58823529411764},\n",
       " 344: {'name': 'Marta Álvarez Gutiérrez', 'similarity': 61.904761904761905},\n",
       " 486: {'name': 'Marta Álvarez', 'similarity': 68.75},\n",
       " 533: {'name': 'Marta Álvarez García', 'similarity': 66.66666666666667},\n",
       " 702: {'name': 'Marta Álvarez', 'similarity': 68.75},\n",
       " 795: {'name': 'Rafael Álvarez Díaz', 'similarity': 70.58823529411764},\n",
       " 845: {'name': 'María Hernández Díaz', 'similarity': 66.66666666666667},\n",
       " 890: {'name': 'María Gutiérrez Díaz', 'similarity': 66.66666666666667},\n",
       " 1066: {'name': 'Marta Álvarez González', 'similarity': 65.0},\n",
       " 1237: {'name': 'María Álvarez', 'similarity': 75.0},\n",
       " 1258: {'name': 'María Díaz Díaz', 'similarity': 68.75},\n",
       " 1300: {'name': 'Marta Álvarez Fernández', 'similarity': 61.904761904761905},\n",
       " 1523: {'name': 'Marta Díaz Díaz', 'similarity': 62.5},\n",
       " 1653: {'name': 'Marta Díaz Díaz', 'similarity': 62.5},\n",
       " 1660: {'name': 'María Gómez Díaz', 'similarity': 68.75},\n",
       " 1944: {'name': 'Marta Gutiérrez Díaz', 'similarity': 61.111111111111114},\n",
       " 2047: {'name': 'María Sánchez Díaz', 'similarity': 68.75},\n",
       " 2093: {'name': 'Javier Álvarez Díaz', 'similarity': 76.47058823529412},\n",
       " 2185: {'name': 'Ana Álvarez Ruiz', 'similarity': 62.5},\n",
       " 2390: {'name': 'María Martínez Díaz', 'similarity': 70.58823529411764},\n",
       " 2465: {'name': 'María Álvarez', 'similarity': 75.0},\n",
       " 2497: {'name': 'Marta Álvarez', 'similarity': 68.75},\n",
       " 2872: {'name': 'María Álvarez', 'similarity': 75.0},\n",
       " 2970: {'name': 'Pedro Álvarez Díaz', 'similarity': 68.75},\n",
       " 2988: {'name': 'Lucía Álvarez Ruiz', 'similarity': 62.5},\n",
       " 2989: {'name': 'Marta Álvarez Martínez', 'similarity': 65.0},\n",
       " 3009: {'name': 'María Álvarez Moreno', 'similarity': 66.66666666666667},\n",
       " 3066: {'name': 'Marta Jiménez Díaz', 'similarity': 62.5},\n",
       " 3288: {'name': 'Fernando Álvarez Díaz', 'similarity': 68.42105263157895},\n",
       " 3854: {'name': 'Ana Álvarez Ruiz', 'similarity': 62.5},\n",
       " 4104: {'name': 'María Álvarez', 'similarity': 75.0},\n",
       " 4251: {'name': 'Marta Álvarez', 'similarity': 68.75},\n",
       " 4702: {'name': 'Marta Álvarez', 'similarity': 68.75},\n",
       " 4835: {'name': 'Marta Álvarez', 'similarity': 68.75},\n",
       " 4874: {'name': 'María Álvarez Díaz', 'similarity': 100.0}}"
      ]
     },
     "execution_count": 45,
     "metadata": {},
     "output_type": "execute_result"
    }
   ],
   "source": [
    "import pandas as pd\n",
    "import Levenshtein as lev\n",
    "from unidecode import unidecode\n",
    "\n",
    "class Similarity:\n",
    "\n",
    "    def __init__(self, name, threshold):\n",
    "\n",
    "        self.name=unidecode(''.join(char for char in name if char.isalnum())).lower()\n",
    "        self.threshold=threshold\n",
    "\n",
    "        dataframe=pd.read_csv(r'names_dataset.csv', sep=\",\")\n",
    "        dataframe[\"full_name_cleansed\"]=dataframe[\"Full Name\"].map(lambda x: ''.join(char for char in x if (char.isalnum() or char in [\" \", \".\"])))\n",
    "        dataframe[\"full_name_cleansed\"]=dataframe[\"full_name_cleansed\"].map(lambda x: x.replace(\"Mg. \",\"\").replace(\"Col. \", \"\").replace(\"Lic. \", \"\").replace(\"Dr. \", \"\").replace(\"Dra. \", \"\").replace(\"Sr. \", \"\").replace(\"Sra. \", \"\"))\n",
    "        dataframe[\"full_name_transformed\"]=dataframe[\"full_name_cleansed\"].map(lambda x: unidecode(''.join(char for char in x if char.isalnum())).lower())\n",
    "        \n",
    "        self.dataset=dataframe[[\"ID\", \"full_name_cleansed\", \"full_name_transformed\"]]\n",
    "\n",
    "    def similarity_percentage(self):\n",
    "\n",
    "        results={}\n",
    "        for i in range(0,len(self.dataset)):\n",
    "            names={}\n",
    "            distance = lev.distance(self.name, self.dataset[\"full_name_transformed\"][i])\n",
    "            max_length = max(len(self.name), len(self.dataset[\"full_name_transformed\"][i]))\n",
    "            if max_length == 0:\n",
    "                similarity=100.0\n",
    "            else:\n",
    "                similarity = (1 - distance / max_length) * 100\n",
    "            if similarity>=self.threshold:\n",
    "                names[\"name\"]=self.dataset[\"full_name_cleansed\"][i]\n",
    "                names[\"similarity\"]=similarity\n",
    "                results[int(self.dataset[\"ID\"][i])]=names\n",
    "\n",
    "        return results #dict(sorted(results, key=lambda item: item['similarity'], reverse=True))\n",
    "\n",
    "nuevo=Similarity(\"María Álvarez Díaz\", 60)\n",
    "#dict(sorted(nuevo.similarity_percentage().items(), key=lambda item: item[1]['similarity'], reverse=True))\n",
    "nuevo.similarity_percentage()"
   ]
  }
 ],
 "metadata": {
  "kernelspec": {
   "display_name": "Python 3",
   "language": "python",
   "name": "python3"
  },
  "language_info": {
   "codemirror_mode": {
    "name": "ipython",
    "version": 3
   },
   "file_extension": ".py",
   "mimetype": "text/x-python",
   "name": "python",
   "nbconvert_exporter": "python",
   "pygments_lexer": "ipython3",
   "version": "3.12.3"
  },
  "orig_nbformat": 4
 },
 "nbformat": 4,
 "nbformat_minor": 2
}
